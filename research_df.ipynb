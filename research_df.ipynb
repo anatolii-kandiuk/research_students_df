{
  "nbformat": 4,
  "nbformat_minor": 0,
  "metadata": {
    "colab": {
      "name": "Untitled3.ipynb",
      "provenance": [],
      "authorship_tag": "ABX9TyO4vxYWmeMibPjQcm0+BNIl",
      "include_colab_link": true
    },
    "kernelspec": {
      "name": "python3",
      "display_name": "Python 3"
    }
  },
  "cells": [
    {
      "cell_type": "markdown",
      "metadata": {
        "id": "view-in-github",
        "colab_type": "text"
      },
      "source": [
        "<a href=\"https://colab.research.google.com/github/anatolii-kandiuk/research_students_df/blob/main/research_df.ipynb\" target=\"_parent\"><img src=\"https://colab.research.google.com/assets/colab-badge.svg\" alt=\"Open In Colab\"/></a>"
      ]
    },
    {
      "cell_type": "code",
      "metadata": {
        "id": "5ITcNfFEhUFc"
      },
      "source": [
        "import pandas as pd\n",
        "import numpy as np"
      ],
      "execution_count": 7,
      "outputs": []
    },
    {
      "cell_type": "code",
      "metadata": {
        "colab": {
          "base_uri": "https://localhost:8080/"
        },
        "id": "l-LM5t-_mHLI",
        "outputId": "374b4cc0-220b-4646-c5f1-5ddb2d74f35d"
      },
      "source": [
        "df = pd.read_csv('sample_data/StudentsPerformance.csv')\n",
        "print(df.head())"
      ],
      "execution_count": 8,
      "outputs": [
        {
          "output_type": "stream",
          "text": [
            "   gender race/ethnicity  ... reading score writing score\n",
            "0  female        group B  ...            72            74\n",
            "1  female        group C  ...            90            88\n",
            "2  female        group B  ...            95            93\n",
            "3    male        group A  ...            57            44\n",
            "4    male        group C  ...            78            75\n",
            "\n",
            "[5 rows x 8 columns]\n"
          ],
          "name": "stdout"
        }
      ]
    },
    {
      "cell_type": "code",
      "metadata": {
        "id": "7Aq7uQNPmMwY"
      },
      "source": [
        ""
      ],
      "execution_count": null,
      "outputs": []
    }
  ]
}